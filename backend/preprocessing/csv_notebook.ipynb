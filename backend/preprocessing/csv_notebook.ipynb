{
 "cells": [
  {
   "attachments": {},
   "cell_type": "markdown",
   "metadata": {},
   "source": [
    "Preprocess food dataset"
   ]
  },
  {
   "cell_type": "code",
   "execution_count": 2,
   "metadata": {},
   "outputs": [],
   "source": [
    "import numpy as np\n",
    "import os\n",
    "import pandas as pd"
   ]
  },
  {
   "cell_type": "code",
   "execution_count": 69,
   "metadata": {},
   "outputs": [
    {
     "name": "stdout",
     "output_type": "stream",
     "text": [
      "d:\\Varshini\\CourseWork\\Dissertation\\Implementation\\Github\\Recommendation_Dissertation\\backend\\preprocessing\\datasets\\Food_recommender\\\n"
     ]
    }
   ],
   "source": [
    "current_working_directory = os.getcwd()\n",
    "\n",
    "# Set location to Datasets\n",
    "dataset_location = current_working_directory + '\\\\datasets\\\\Food_recommender\\\\'\n",
    "\n",
    "print(dataset_location)\n"
   ]
  },
  {
   "cell_type": "code",
   "execution_count": 70,
   "metadata": {},
   "outputs": [
    {
     "data": {
      "text/plain": [
       "(1500, 18)"
      ]
     },
     "execution_count": 70,
     "metadata": {},
     "output_type": "execute_result"
    }
   ],
   "source": [
    "# File list\n",
    "file_list = ['Appetizers.csv', 'Beverages.csv', 'Breads.csv', 'Breakfast.csv',\n",
    "             'Desserts.csv', 'Dressings.csv', 'Main.csv', 'Salads.csv', 'Sandwiches.csv', 'Snacks.csv', 'Soups.csv']\n",
    "\n",
    "combined_csv = pd.concat([pd.read_csv(dataset_location + file)\n",
    "                         for file in file_list], ignore_index=True)\n",
    "combined_csv.shape\n"
   ]
  },
  {
   "cell_type": "code",
   "execution_count": 71,
   "metadata": {},
   "outputs": [
    {
     "name": "stdout",
     "output_type": "stream",
     "text": [
      "(1222, 18)\n"
     ]
    },
    {
     "data": {
      "text/plain": [
       "(0, 18)"
      ]
     },
     "execution_count": 71,
     "metadata": {},
     "output_type": "execute_result"
    }
   ],
   "source": [
    "# Remove duplicate rows\n",
    "food_data = combined_csv.drop_duplicates()\n",
    "print(food_data.shape)\n",
    "\n",
    "# Check if any more duplicate rows\n",
    "df2 = food_data[food_data.duplicated()]\n",
    "df2.shape\n"
   ]
  },
  {
   "cell_type": "code",
   "execution_count": 72,
   "metadata": {},
   "outputs": [
    {
     "data": {
      "text/html": [
       "<div>\n",
       "<style scoped>\n",
       "    .dataframe tbody tr th:only-of-type {\n",
       "        vertical-align: middle;\n",
       "    }\n",
       "\n",
       "    .dataframe tbody tr th {\n",
       "        vertical-align: top;\n",
       "    }\n",
       "\n",
       "    .dataframe thead th {\n",
       "        text-align: right;\n",
       "    }\n",
       "</style>\n",
       "<table border=\"1\" class=\"dataframe\">\n",
       "  <thead>\n",
       "    <tr style=\"text-align: right;\">\n",
       "      <th></th>\n",
       "      <th>name</th>\n",
       "      <th>servings</th>\n",
       "      <th>ingredients</th>\n",
       "      <th>directions</th>\n",
       "      <th>type</th>\n",
       "      <th>calories</th>\n",
       "      <th>cholesterol</th>\n",
       "      <th>fat</th>\n",
       "      <th>carbohydrates</th>\n",
       "      <th>fiber</th>\n",
       "      <th>sugars</th>\n",
       "      <th>protein</th>\n",
       "      <th>calcium</th>\n",
       "      <th>iron</th>\n",
       "      <th>vitamin_a</th>\n",
       "      <th>vitamin_c</th>\n",
       "      <th>vitamin_d</th>\n",
       "      <th>folate</th>\n",
       "    </tr>\n",
       "  </thead>\n",
       "  <tbody>\n",
       "    <tr>\n",
       "      <th>0</th>\n",
       "      <td>Ambrosia</td>\n",
       "      <td>8 servings</td>\n",
       "      <td>['1 can pineapple chunks (in juice, 20 oz., dr...</td>\n",
       "      <td>['Drain pineapple and oranges. Use juice as be...</td>\n",
       "      <td>Appetizers</td>\n",
       "      <td>139</td>\n",
       "      <td>2 mg</td>\n",
       "      <td>2 g</td>\n",
       "      <td>31 g</td>\n",
       "      <td>2 g</td>\n",
       "      <td>26 g</td>\n",
       "      <td>3 g</td>\n",
       "      <td>70 mg</td>\n",
       "      <td>1 mg</td>\n",
       "      <td>27 mcg RAE</td>\n",
       "      <td>20 mg</td>\n",
       "      <td>0 mcg</td>\n",
       "      <td>13 mcg DFE</td>\n",
       "    </tr>\n",
       "    <tr>\n",
       "      <th>1</th>\n",
       "      <td>Baked Cauliflower Tots</td>\n",
       "      <td>3 Servings</td>\n",
       "      <td>['2 cups grated or finely chopped cauliflower ...</td>\n",
       "      <td>['Wash hands with soap and water.', 'Preheat o...</td>\n",
       "      <td>Appetizers</td>\n",
       "      <td>107</td>\n",
       "      <td>72 mg</td>\n",
       "      <td>5 g</td>\n",
       "      <td>9 g</td>\n",
       "      <td>2 g</td>\n",
       "      <td>1 g</td>\n",
       "      <td>7 g</td>\n",
       "      <td>93 mg</td>\n",
       "      <td>1 mg</td>\n",
       "      <td>52 mcg RAE</td>\n",
       "      <td>32 mg</td>\n",
       "      <td>0 mcg</td>\n",
       "      <td>70 mcg DFE</td>\n",
       "    </tr>\n",
       "    <tr>\n",
       "      <th>2</th>\n",
       "      <td>Baked Chicken Nuggets</td>\n",
       "      <td>4 servings</td>\n",
       "      <td>['1 1/2 pounds chicken thighs, boneless, skinl...</td>\n",
       "      <td>['Remove skin and bone; cut thighs into bite-s...</td>\n",
       "      <td>Appetizers</td>\n",
       "      <td>175</td>\n",
       "      <td>67 mg</td>\n",
       "      <td>8 g</td>\n",
       "      <td>7 g</td>\n",
       "      <td>1 g</td>\n",
       "      <td>1 g</td>\n",
       "      <td>18 g</td>\n",
       "      <td>13 mg</td>\n",
       "      <td>3 mg</td>\n",
       "      <td>54 mcg RAE</td>\n",
       "      <td>2 mg</td>\n",
       "      <td>0 mcg</td>\n",
       "      <td>45 mcg DFE</td>\n",
       "    </tr>\n",
       "    <tr>\n",
       "      <th>3</th>\n",
       "      <td>Baked Tortilla Chips</td>\n",
       "      <td>6 Servings</td>\n",
       "      <td>['3 whole wheat flour tortillas, 10\" across (o...</td>\n",
       "      <td>['Wash hands with soap and water.', 'Preheat o...</td>\n",
       "      <td>Appetizers</td>\n",
       "      <td>93</td>\n",
       "      <td>0 mg</td>\n",
       "      <td>1 g</td>\n",
       "      <td>20 g</td>\n",
       "      <td>2 g</td>\n",
       "      <td>0 g</td>\n",
       "      <td>3 g</td>\n",
       "      <td>8 mg</td>\n",
       "      <td>1 mg</td>\n",
       "      <td>0 mcg RAE</td>\n",
       "      <td>0 mg</td>\n",
       "      <td>0 mcg</td>\n",
       "      <td>22 mcg DFE</td>\n",
       "    </tr>\n",
       "    <tr>\n",
       "      <th>4</th>\n",
       "      <td>Beet &amp; White Bean Salad</td>\n",
       "      <td>4 Servings</td>\n",
       "      <td>[]</td>\n",
       "      <td>['Prepare dressing: In small bowl combine cide...</td>\n",
       "      <td>Appetizers</td>\n",
       "      <td>420</td>\n",
       "      <td>13 mg</td>\n",
       "      <td>29 g</td>\n",
       "      <td>29 g</td>\n",
       "      <td>7 g</td>\n",
       "      <td>5 g</td>\n",
       "      <td>14 g</td>\n",
       "      <td>169 mg</td>\n",
       "      <td>3 mg</td>\n",
       "      <td>34 mcg RAE</td>\n",
       "      <td>3 mg</td>\n",
       "      <td>0 mcg</td>\n",
       "      <td>122 mcg DFE</td>\n",
       "    </tr>\n",
       "  </tbody>\n",
       "</table>\n",
       "</div>"
      ],
      "text/plain": [
       "                      name    servings   \n",
       "0                 Ambrosia  8 servings  \\\n",
       "1   Baked Cauliflower Tots  3 Servings   \n",
       "2    Baked Chicken Nuggets  4 servings   \n",
       "3     Baked Tortilla Chips  6 Servings   \n",
       "4  Beet & White Bean Salad  4 Servings   \n",
       "\n",
       "                                         ingredients   \n",
       "0  ['1 can pineapple chunks (in juice, 20 oz., dr...  \\\n",
       "1  ['2 cups grated or finely chopped cauliflower ...   \n",
       "2  ['1 1/2 pounds chicken thighs, boneless, skinl...   \n",
       "3  ['3 whole wheat flour tortillas, 10\" across (o...   \n",
       "4                                                 []   \n",
       "\n",
       "                                          directions        type  calories   \n",
       "0  ['Drain pineapple and oranges. Use juice as be...  Appetizers       139  \\\n",
       "1  ['Wash hands with soap and water.', 'Preheat o...  Appetizers       107   \n",
       "2  ['Remove skin and bone; cut thighs into bite-s...  Appetizers       175   \n",
       "3  ['Wash hands with soap and water.', 'Preheat o...  Appetizers        93   \n",
       "4  ['Prepare dressing: In small bowl combine cide...  Appetizers       420   \n",
       "\n",
       "  cholesterol   fat carbohydrates fiber sugars protein calcium  iron   \n",
       "0        2 mg   2 g          31 g   2 g   26 g     3 g   70 mg  1 mg  \\\n",
       "1       72 mg   5 g           9 g   2 g    1 g     7 g   93 mg  1 mg   \n",
       "2       67 mg   8 g           7 g   1 g    1 g    18 g   13 mg  3 mg   \n",
       "3        0 mg   1 g          20 g   2 g    0 g     3 g    8 mg  1 mg   \n",
       "4       13 mg  29 g          29 g   7 g    5 g    14 g  169 mg  3 mg   \n",
       "\n",
       "    vitamin_a vitamin_c vitamin_d       folate  \n",
       "0  27 mcg RAE     20 mg     0 mcg   13 mcg DFE  \n",
       "1  52 mcg RAE     32 mg     0 mcg   70 mcg DFE  \n",
       "2  54 mcg RAE      2 mg     0 mcg   45 mcg DFE  \n",
       "3   0 mcg RAE      0 mg     0 mcg   22 mcg DFE  \n",
       "4  34 mcg RAE      3 mg     0 mcg  122 mcg DFE  "
      ]
     },
     "execution_count": 72,
     "metadata": {},
     "output_type": "execute_result"
    }
   ],
   "source": [
    "food_data.head()"
   ]
  },
  {
   "cell_type": "code",
   "execution_count": 73,
   "metadata": {},
   "outputs": [],
   "source": [
    "# Write combined csv into new csv\n",
    "food_data.to_csv(dataset_location + 'food_data.csv', index=False)\n"
   ]
  },
  {
   "cell_type": "code",
   "execution_count": 88,
   "metadata": {},
   "outputs": [
    {
     "name": "stdout",
     "output_type": "stream",
     "text": [
      "(100004, 3)\n",
      "(72853, 3)\n"
     ]
    }
   ],
   "source": [
    "import random\n",
    "\n",
    "csv_file = 'D:\\\\Varshini\\\\CourseWork\\\\Dissertation\\\\Implementation\\\\Github\\\\Recommendation_Dissertation\\\\backend\\\\preprocessing\\\\cleanedDatasets\\\\ratings_cleaned.csv'\n",
    "rating = pd.read_csv(csv_file)\n",
    "\n",
    "# Print rows with food_id greater than 1117 - to check if they exists\n",
    "rating = rating[rating.food_id > 1117]\n",
    "\n",
    "# Randomly choose food_id between the range of values greater than 1117\n",
    "def clean(x):\n",
    "    if x > 1117:\n",
    "        return random.randrange(1, 1118)\n",
    "    else:\n",
    "        return x\n",
    "\n",
    "rating['food_id'] = rating['food_id'].apply(lambda food_id: clean(x=food_id))\n",
    "\n",
    "rating.head()\n",
    "\n",
    "# Write the modified ratings\n",
    "rating.to_csv('D:\\\\Varshini\\\\CourseWork\\\\Dissertation\\\\Implementation\\\\Github\\\\Recommendation_Dissertation\\\\backend\\\\preprocessing\\\\cleanedDatasets\\\\' + 'ratings_cleaned.csv', index=False)"
   ]
  },
  {
   "attachments": {},
   "cell_type": "markdown",
   "metadata": {},
   "source": [
    "Preprocess ADL datasets"
   ]
  },
  {
   "cell_type": "code",
   "execution_count": 2,
   "metadata": {},
   "outputs": [
    {
     "ename": "NameError",
     "evalue": "name 'pd' is not defined",
     "output_type": "error",
     "traceback": [
      "\u001b[1;31m---------------------------------------------------------------------------\u001b[0m",
      "\u001b[1;31mNameError\u001b[0m                                 Traceback (most recent call last)",
      "Cell \u001b[1;32mIn[2], line 17\u001b[0m\n\u001b[0;32m     14\u001b[0m outfile\u001b[39m.\u001b[39mclose()\n\u001b[0;32m     16\u001b[0m \u001b[39m# Read CSV\u001b[39;00m\n\u001b[1;32m---> 17\u001b[0m csv_file \u001b[39m=\u001b[39m pd\u001b[39m.\u001b[39mread_csv(dataset_location \u001b[39m+\u001b[39m \u001b[39m'\u001b[39m\u001b[39mADL_data.csv\u001b[39m\u001b[39m'\u001b[39m, header\u001b[39m=\u001b[39m\u001b[39mNone\u001b[39;00m)\n\u001b[0;32m     19\u001b[0m \u001b[39m# Adding header\u001b[39;00m\n\u001b[0;32m     20\u001b[0m headerList \u001b[39m=\u001b[39m [\u001b[39m'\u001b[39m\u001b[39mdate\u001b[39m\u001b[39m'\u001b[39m, \u001b[39m'\u001b[39m\u001b[39mtime\u001b[39m\u001b[39m'\u001b[39m, \u001b[39m'\u001b[39m\u001b[39msensor_id\u001b[39m\u001b[39m'\u001b[39m, \u001b[39m'\u001b[39m\u001b[39msensor_status\u001b[39m\u001b[39m'\u001b[39m, \u001b[39m'\u001b[39m\u001b[39mactivity\u001b[39m\u001b[39m'\u001b[39m]\n",
      "\u001b[1;31mNameError\u001b[0m: name 'pd' is not defined"
     ]
    }
   ],
   "source": [
    "import re\n",
    "\n",
    "dataset_location = 'D:\\\\Varshini\\\\CourseWork\\\\Dissertation\\\\Implementation\\\\Github\\\\Recommendation_Dissertation\\\\backend\\\\preprocessing\\\\datasets\\\\Activity_predictor\\\\'\n",
    "\n",
    "with open(dataset_location + 'data.txt', 'rt') as infile, open(dataset_location + 'ADL_data.csv', 'w') as outfile:\n",
    "    for line in infile:\n",
    "        if re.search(r'\\d+$', line.strip()):\n",
    "            modified_line = line.strip() + ',\\n'\n",
    "        else:\n",
    "            modified_line = line\n",
    "\n",
    "        outfile.write(modified_line.replace('\\t', ',').replace(' ', '_').replace('ON\\n', 'ON,\\n').replace('OFF\\n', 'OFF,\\n'))\n",
    "infile.close()\n",
    "outfile.close()\n",
    "\n",
    "# Read CSV\n",
    "csv_file = pd.read_csv(dataset_location + 'ADL_data.csv', header=None)\n",
    "\n",
    "# Adding header\n",
    "headerList = ['date', 'time', 'sensor_id', 'sensor_status', 'activity']\n",
    "\n",
    "# converting data frame to csv\n",
    "csv_file.to_csv(dataset_location + 'ADL_data.csv',\n",
    "                header=headerList, index=False)\n",
    "\n",
    "csv_file = pd.read_csv(dataset_location + 'ADL_data.csv')\n",
    "csv_file.head()"
   ]
  }
 ],
 "metadata": {
  "kernelspec": {
   "display_name": "venv",
   "language": "python",
   "name": "python3"
  },
  "language_info": {
   "codemirror_mode": {
    "name": "ipython",
    "version": 3
   },
   "file_extension": ".py",
   "mimetype": "text/x-python",
   "name": "python",
   "nbconvert_exporter": "python",
   "pygments_lexer": "ipython3",
   "version": "3.11.2"
  },
  "orig_nbformat": 4
 },
 "nbformat": 4,
 "nbformat_minor": 2
}
